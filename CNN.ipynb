{
  "cells": [
    {
      "cell_type": "markdown",
      "metadata": {
        "id": "zvgrcwWpE4Vl"
      },
      "source": [
        "# Convolutional neural networks\n",
        "\n",
        "In this notebook, we'll put together our convolutional layers to implement a 3-layer CNN.  Then, we'll ask you to implement a CNN that can achieve > 65% validation error on CIFAR-10.\n",
        "\n",
        "CS231n has built a solid API for building these modular frameworks and training them, and we will use their very well implemented framework as opposed to \"reinventing the wheel.\"  This includes using their Solver, various utility functions, their layer structure, and their implementation of fast CNN layers.  This also includes nndl.fc_net, nndl.layers, and nndl.layer_utils.  As in prior assignments, we thank Serena Yeung & Justin Johnson for permission to use code written for the CS 231n class (cs231n.stanford.edu).  \n",
        "\n",
        "\n",
        "If you have not completed the Spatial BatchNorm Notebook, please see the following description from that notebook:\n",
        "\n",
        "Please copy and paste your prior implemented code from HW #4 to start this assignment.  If you did not correctly implement the layers in HW #4, you may collaborate with a classmate to use their layer implementations from HW #4.  You may also visit TA or Prof OH to correct your implementation.  \n",
        "\n",
        "You'll want to copy and paste from HW #4:\n",
        "    - layers.py for your FC network layers, as well as batchnorm and dropout.\n",
        "    - layer_utils.py for your combined FC network layers.\n",
        "    - optim.py for your optimizers.\n",
        "\n",
        "Be sure to place these in the `nndl/` directory so they're imported correctly.  Note, as announced in class, we will not be releasing our solutions."
      ]
    },
    {
      "cell_type": "code",
      "execution_count": 3,
      "metadata": {
        "id": "mTVZceFCE4Vo"
      },
      "outputs": [],
      "source": [
        "# As usual, a bit of setup\n",
        "\n",
        "import numpy as np\n",
        "import matplotlib.pyplot as plt\n",
        "from nndl.cnn import *\n",
        "from utils.data_utils import get_CIFAR10_data\n",
        "from utils.gradient_check import eval_numerical_gradient_array, eval_numerical_gradient\n",
        "from nndl.layers import *\n",
        "from nndl.conv_layers import *\n",
        "from utils.fast_layers import *\n",
        "from utils.solver import Solver\n",
        "\n",
        "%matplotlib inline\n",
        "plt.rcParams['figure.figsize'] = (10.0, 8.0) # set default size of plots\n",
        "plt.rcParams['image.interpolation'] = 'nearest'\n",
        "plt.rcParams['image.cmap'] = 'gray'\n",
        "\n",
        "# for auto-reloading external modules\n",
        "# see http://stackoverflow.com/questions/1907993/autoreload-of-modules-in-ipython\n",
        "%load_ext autoreload\n",
        "%autoreload 2\n",
        "\n",
        "def rel_error(x, y):\n",
        "  \"\"\" returns relative error \"\"\"\n",
        "  return np.max(np.abs(x - y) / (np.maximum(1e-8, np.abs(x) + np.abs(y))))"
      ]
    },
    {
      "cell_type": "code",
      "execution_count": 14,
      "metadata": {
        "colab": {
          "base_uri": "https://localhost:8080/"
        },
        "id": "R3IUq23xE4Vq",
        "outputId": "e204001d-7606-46f3-82b0-6d9cba1cee63"
      },
      "outputs": [
        {
          "name": "stdout",
          "output_type": "stream",
          "text": [
            "X_train: (49000, 3, 32, 32) \n",
            "y_train: (49000,) \n",
            "X_val: (1000, 3, 32, 32) \n",
            "y_val: (1000,) \n",
            "X_test: (1000, 3, 32, 32) \n",
            "y_test: (1000,) \n"
          ]
        }
      ],
      "source": [
        "# Load the (preprocessed) CIFAR10 data.\n",
        "\n",
        "data = get_CIFAR10_data()\n",
        "for k in data.keys():\n",
        "  print('{}: {} '.format(k, data[k].shape))"
      ]
    },
    {
      "cell_type": "markdown",
      "metadata": {
        "id": "IgOn1jxIE4Vs"
      },
      "source": [
        "## Three layer CNN\n",
        "\n",
        "In this notebook, you will implement a three layer CNN.  The `ThreeLayerConvNet` class is in `nndl/cnn.py`.  You'll need to modify that code for this section, including the initialization, as well as the calculation of the loss and gradients.  You should be able to use the building blocks you have either earlier coded or that we have provided.  Be sure to use the fast layers.\n",
        "\n",
        "The architecture of this CNN will be:\n",
        "\n",
        "conv - relu - 2x2 max pool - affine - relu - affine - softmax\n",
        "\n",
        "We won't use batchnorm yet.  You've also done enough of these to know how to debug; use the cells below.\n",
        "\n",
        "Note: As we are implementing several layers CNN networks. The gradient error can be expected for the `eval_numerical_gradient()` function. If your `W1 max relative error` and `W2 max relative error` are around or below 0.01, they should be acceptable. Other errors should be less than 1e-5."
      ]
    },
    {
      "cell_type": "code",
      "execution_count": 31,
      "metadata": {
        "colab": {
          "base_uri": "https://localhost:8080/"
        },
        "id": "k8vbUDkrE4Vs",
        "outputId": "b1f15fe8-d4f7-41e0-8958-1bd860ad0862"
      },
      "outputs": [
        {
          "name": "stdout",
          "output_type": "stream",
          "text": [
            "W1 max relative error: 0.00040206868835788995\n",
            "W2 max relative error: 0.011735456361622095\n",
            "W3 max relative error: 2.5630040560172873e-05\n",
            "b1 max relative error: 1.4160318247581378e-05\n",
            "b2 max relative error: 3.5738180080876305e-07\n",
            "b3 max relative error: 1.1779144251967382e-09\n"
          ]
        }
      ],
      "source": [
        "num_inputs = 2\n",
        "input_dim = (3, 16, 16)\n",
        "reg = 0.0\n",
        "num_classes = 10\n",
        "X = np.random.randn(num_inputs, *input_dim)\n",
        "y = np.random.randint(num_classes, size=num_inputs)\n",
        "\n",
        "model = ThreeLayerConvNet(num_filters=3, filter_size=3,\n",
        "                          input_dim=input_dim, hidden_dim=7,\n",
        "                          dtype=np.float64)\n",
        "loss, grads = model.loss(X, y)\n",
        "for param_name in sorted(grads):\n",
        "    f = lambda _: model.loss(X, y)[0]\n",
        "    param_grad_num = eval_numerical_gradient(f, model.params[param_name], verbose=False, h=1e-6)\n",
        "    e = rel_error(param_grad_num, grads[param_name])\n",
        "    print('{} max relative error: {}'.format(param_name, rel_error(param_grad_num, grads[param_name])))"
      ]
    },
    {
      "cell_type": "markdown",
      "metadata": {
        "id": "cXeNUZxhE4Vt"
      },
      "source": [
        "### Overfit small dataset\n",
        "\n",
        "To check your CNN implementation, let's overfit a small dataset."
      ]
    },
    {
      "cell_type": "code",
      "execution_count": 32,
      "metadata": {
        "id": "TdbzBSDpE4Vt",
        "outputId": "884f0215-7801-4a6a-8fa1-adb7cc14d18e"
      },
      "outputs": [
        {
          "name": "stdout",
          "output_type": "stream",
          "text": [
            "(Iteration 1 / 20) loss: 2.617387\n",
            "(Epoch 0 / 10) train acc: 0.160000; val_acc: 0.119000\n",
            "(Iteration 2 / 20) loss: 5.055394\n",
            "(Epoch 1 / 10) train acc: 0.180000; val_acc: 0.095000\n",
            "(Iteration 3 / 20) loss: 3.102668\n",
            "(Iteration 4 / 20) loss: 2.549522\n",
            "(Epoch 2 / 10) train acc: 0.200000; val_acc: 0.098000\n",
            "(Iteration 5 / 20) loss: 2.583624\n",
            "(Iteration 6 / 20) loss: 2.223286\n",
            "(Epoch 3 / 10) train acc: 0.260000; val_acc: 0.153000\n",
            "(Iteration 7 / 20) loss: 2.131146\n",
            "(Iteration 8 / 20) loss: 2.296911\n",
            "(Epoch 4 / 10) train acc: 0.280000; val_acc: 0.167000\n",
            "(Iteration 9 / 20) loss: 2.246557\n",
            "(Iteration 10 / 20) loss: 2.070185\n",
            "(Epoch 5 / 10) train acc: 0.260000; val_acc: 0.136000\n",
            "(Iteration 11 / 20) loss: 1.983025\n",
            "(Iteration 12 / 20) loss: 2.018969\n",
            "(Epoch 6 / 10) train acc: 0.270000; val_acc: 0.136000\n",
            "(Iteration 13 / 20) loss: 1.906045\n",
            "(Iteration 14 / 20) loss: 1.865744\n",
            "(Epoch 7 / 10) train acc: 0.390000; val_acc: 0.176000\n",
            "(Iteration 15 / 20) loss: 1.731084\n",
            "(Iteration 16 / 20) loss: 1.737457\n",
            "(Epoch 8 / 10) train acc: 0.360000; val_acc: 0.199000\n",
            "(Iteration 17 / 20) loss: 1.593578\n",
            "(Iteration 18 / 20) loss: 1.738765\n",
            "(Epoch 9 / 10) train acc: 0.500000; val_acc: 0.222000\n",
            "(Iteration 19 / 20) loss: 1.407117\n",
            "(Iteration 20 / 20) loss: 1.406177\n",
            "(Epoch 10 / 10) train acc: 0.610000; val_acc: 0.251000\n"
          ]
        }
      ],
      "source": [
        "num_train = 100\n",
        "small_data = {\n",
        "  'X_train': data['X_train'][:num_train],\n",
        "  'y_train': data['y_train'][:num_train],\n",
        "  'X_val': data['X_val'],\n",
        "  'y_val': data['y_val'],\n",
        "}\n",
        "\n",
        "model = ThreeLayerConvNet(weight_scale=1e-2)\n",
        "\n",
        "solver = Solver(model, small_data,\n",
        "                num_epochs=10, batch_size=50,\n",
        "                update_rule='adam',\n",
        "                optim_config={\n",
        "                  'learning_rate': 1e-3,\n",
        "                },\n",
        "                verbose=True, print_every=1)\n",
        "solver.train()"
      ]
    },
    {
      "cell_type": "code",
      "execution_count": 33,
      "metadata": {
        "id": "DgoQ-oEoE4Vu",
        "outputId": "296b01e0-cf9a-42ea-b7d9-6e719ce47653"
      },
      "outputs": [
        {
          "data": {
            "image/png": "[encoded data removed]",
            "text/plain": [
              "<Figure size 720x576 with 2 Axes>"
            ]
          },
          "metadata": {
            "needs_background": "light"
          },
          "output_type": "display_data"
        }
      ],
      "source": [
        "plt.subplot(2, 1, 1)\n",
        "plt.plot(solver.loss_history, 'o')\n",
        "plt.xlabel('iteration')\n",
        "plt.ylabel('loss')\n",
        "\n",
        "plt.subplot(2, 1, 2)\n",
        "plt.plot(solver.train_acc_history, '-o')\n",
        "plt.plot(solver.val_acc_history, '-o')\n",
        "plt.legend(['train', 'val'], loc='upper left')\n",
        "plt.xlabel('epoch')\n",
        "plt.ylabel('accuracy')\n",
        "plt.show()"
      ]
    },
    {
      "cell_type": "markdown",
      "metadata": {
        "id": "Q6kcxx9bE4Vv"
      },
      "source": [
        "## Train the network\n",
        "\n",
        "Now we train the 3 layer CNN on CIFAR-10 and assess its accuracy."
      ]
    },
    {
      "cell_type": "code",
      "execution_count": null,
      "metadata": {
        "id": "6GdYWUG_E4Vv",
        "outputId": "907b8411-7d5b-48bf-814e-c25e6c4037ea",
        "scrolled": false
      },
      "outputs": [
        {
          "name": "stdout",
          "output_type": "stream",
          "text": [
            "(Iteration 1 / 980) loss: 2.302376\n",
            "(Epoch 0 / 1) train acc: 0.097000; val_acc: 0.112000\n",
            "(Iteration 21 / 980) loss: 2.132180\n",
            "(Iteration 41 / 980) loss: 1.985465\n",
            "(Iteration 61 / 980) loss: 2.095682\n",
            "(Iteration 81 / 980) loss: 1.989574\n",
            "(Iteration 101 / 980) loss: 1.868706\n",
            "(Iteration 121 / 980) loss: 1.974577\n",
            "(Iteration 141 / 980) loss: 1.704182\n",
            "(Iteration 161 / 980) loss: 1.892753\n",
            "(Iteration 181 / 980) loss: 1.763157\n",
            "(Iteration 201 / 980) loss: 1.763842\n",
            "(Iteration 221 / 980) loss: 1.679968\n",
            "(Iteration 241 / 980) loss: 1.888389\n",
            "(Iteration 261 / 980) loss: 1.743302\n",
            "(Iteration 281 / 980) loss: 1.601442\n",
            "(Iteration 301 / 980) loss: 1.597413\n",
            "(Iteration 321 / 980) loss: 1.586103\n",
            "(Iteration 341 / 980) loss: 1.491225\n",
            "(Iteration 361 / 980) loss: 1.614746\n",
            "(Iteration 381 / 980) loss: 1.770352\n",
            "(Iteration 401 / 980) loss: 1.727566\n",
            "(Iteration 421 / 980) loss: 1.744848\n",
            "(Iteration 441 / 980) loss: 1.650156\n",
            "(Iteration 461 / 980) loss: 1.654290\n",
            "(Iteration 481 / 980) loss: 1.698365\n",
            "(Iteration 501 / 980) loss: 1.747648\n",
            "(Iteration 521 / 980) loss: 1.616024\n",
            "(Iteration 541 / 980) loss: 1.547898\n",
            "(Iteration 561 / 980) loss: 1.727332\n",
            "(Iteration 581 / 980) loss: 1.704266\n",
            "(Iteration 601 / 980) loss: 1.595045\n",
            "(Iteration 621 / 980) loss: 1.786916\n",
            "(Iteration 641 / 980) loss: 1.800627\n",
            "(Iteration 661 / 980) loss: 1.588164\n",
            "(Iteration 681 / 980) loss: 1.463193\n",
            "(Iteration 701 / 980) loss: 1.561851\n",
            "(Iteration 721 / 980) loss: 1.748180\n",
            "(Iteration 741 / 980) loss: 1.457067\n",
            "(Iteration 761 / 980) loss: 1.440468\n",
            "(Iteration 781 / 980) loss: 1.597737\n",
            "(Iteration 801 / 980) loss: 1.784383\n",
            "(Iteration 821 / 980) loss: 1.631725\n",
            "(Iteration 841 / 980) loss: 1.347092\n",
            "(Iteration 861 / 980) loss: 1.537959\n",
            "(Iteration 881 / 980) loss: 1.522572\n",
            "(Iteration 901 / 980) loss: 1.535281\n",
            "(Iteration 921 / 980) loss: 1.266824\n",
            "(Iteration 941 / 980) loss: 1.655576\n",
            "(Iteration 961 / 980) loss: 1.370934\n",
            "(Epoch 1 / 1) train acc: 0.470000; val_acc: 0.478000\n"
          ]
        }
      ],
      "source": [
        "model = ThreeLayerConvNet(weight_scale=0.001, hidden_dim=500, reg=0.001)\n",
        "\n",
        "solver = Solver(model, data,\n",
        "                num_epochs=1, batch_size=50,\n",
        "                update_rule='adam',\n",
        "                optim_config={\n",
        "                  'learning_rate': 1e-3,\n",
        "                },\n",
        "                verbose=True, print_every=20)\n",
        "solver.train()"
      ]
    },
    {
      "cell_type": "markdown",
      "metadata": {
        "id": "7v1PJiRoE4Vw"
      },
      "source": [
        "# Get > 65% validation accuracy on CIFAR-10.\n",
        "\n",
        "In the last part of the assignment, we'll now ask you to train a CNN to get better than 65% validation accuracy on CIFAR-10.\n",
        "\n",
        "### Things you should try:\n",
        "- Filter size: Above we used 7x7; but VGGNet and onwards showed stacks of 3x3 filters are good.  \n",
        "- Number of filters: Above we used 32 filters. Do more or fewer do better?\n",
        "- Batch normalization: Try adding spatial batch normalization after convolution layers and vanilla batch normalization aafter affine layers. Do your networks train faster?\n",
        "- Network architecture: Can a deeper CNN do better?  Consider these architectures:\n",
        "    - [conv-relu-pool]xN - conv - relu - [affine]xM - [softmax or SVM]\n",
        "    - [conv-relu-pool]XN - [affine]XM - [softmax or SVM]\n",
        "    - [conv-relu-conv-relu-pool]xN - [affine]xM - [softmax or SVM]\n",
        "\n",
        "### Tips for training\n",
        "For each network architecture that you try, you should tune the learning rate and regularization strength. When doing this there are a couple important things to keep in mind:\n",
        "\n",
        "- If the parameters are working well, you should see improvement within a few hundred iterations\n",
        "- Remember the coarse-to-fine approach for hyperparameter tuning: start by testing a large range of hyperparameters for just a few training iterations to find the combinations of parameters that are working at all.\n",
        "- Once you have found some sets of parameters that seem to work, search more finely around these parameters. You may need to train for more epochs."
      ]
    },
    {
      "cell_type": "code",
      "execution_count": 23,
      "metadata": {
        "colab": {
          "base_uri": "https://localhost:8080/"
        },
        "id": "tlXsc7n3E4Vw",
        "outputId": "7b638f6f-fd08-4107-89ab-7bb679031219",
        "scrolled": false
      },
      "outputs": [
        {
          "name": "stdout",
          "output_type": "stream",
          "text": [
            "(Iteration 1 / 573) loss: 2.299787\n",
            "(Epoch 0 / 3) train acc: 0.217000; val_acc: 0.181000\n",
            "(Iteration 126 / 573) loss: 1.088634\n",
            "(Epoch 1 / 3) train acc: 0.593000; val_acc: 0.588000\n",
            "(Iteration 251 / 573) loss: 0.988626\n",
            "(Iteration 376 / 573) loss: 0.738552\n",
            "(Epoch 2 / 3) train acc: 0.702000; val_acc: 0.635000\n",
            "(Iteration 501 / 573) loss: 0.750904\n",
            "(Epoch 3 / 3) train acc: 0.789000; val_acc: 0.658000\n"
          ]
        }
      ],
      "source": [
        "# ================================================================ #\n",
        "# YOUR CODE HERE:\n",
        "#   Implement a CNN to achieve greater than 65% validation accuracy\n",
        "#   on CIFAR-10.\n",
        "# ================================================================ #\n",
        "num_filters = 64  # 32\n",
        "filter_size = 3  # 7\n",
        "hidden_dim = 100 # 100\n",
        "num_classes = 10\n",
        "weight_scale = .01  # 0.001\n",
        "reg = 0.00\n",
        "dtype = np.float32\n",
        "use_batchnorm = True\n",
        "\n",
        "model = ThreeLayerConvNet((3, 32, 32), num_filters, filter_size, hidden_dim,\n",
        "                          num_classes, weight_scale, reg, dtype, use_batchnorm)\n",
        "\n",
        "solver = Solver(model, data,\n",
        "                num_epochs=3, batch_size=256,  # 100\n",
        "                update_rule='adam',\n",
        "                optim_config={\n",
        "                  'learning_rate': 1e-2,\n",
        "                },\n",
        "                lr_decay=0.9,\n",
        "                verbose=True, print_every=125)\n",
        "solver.train()\n",
        "# ================================================================ #\n",
        "# END YOUR CODE HERE\n",
        "# ================================================================ #"
      ]
    },
    {
      "cell_type": "code",
      "execution_count": null,
      "metadata": {
        "id": "GvuyzI3iE4Vy"
      },
      "outputs": [],
      "source": []
    }
  ],
  "metadata": {
    "colab": {
      "include_colab_link": true,
      "provenance": []
    },
    "kernelspec": {
      "display_name": "Python 3 (ipykernel)",
      "language": "python",
      "name": "python3"
    },
    "language_info": {
      "codemirror_mode": {
        "name": "ipython",
        "version": 3
      },
      "file_extension": ".py",
      "mimetype": "text/x-python",
      "name": "python",
      "nbconvert_exporter": "python",
      "pygments_lexer": "ipython3",
      "version": "3.10.12"
    }
  },
  "nbformat": 4,
  "nbformat_minor": 0
}
